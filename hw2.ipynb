{
 "cells": [
  {
   "cell_type": "markdown",
   "metadata": {},
   "source": [
    "# Лабораторная работа 5. Временные ряды. \n",
    "\n",
    "\n",
    "Результат лабораторной работы &mdash; отчет. Мы предпочитаем принимать отчеты в формате ноутбуков IPython (ipynb-файл). Постарайтесь сделать ваш отчет интересным рассказом, последовательно отвечающим на вопросы из заданий. Помимо ответов на вопросы, в отчете так же должен быть код, однако чем меньше кода, тем лучше всем: нам &mdash; меньше проверять, вам &mdash; проще найти ошибку или дополнить эксперимент. При проверке оценивается четкость ответов на вопросы, аккуратность отчета и кода.\n",
    "\n",
    "\n",
    "### Оценивание и штрафы\n",
    "Каждая из задач имеет определенную «стоимость» (указана в скобках около задачи). Максимально допустимая оценка за работу &mdash; 10 баллов. Сдавать задание после указанного в lk срока сдачи нельзя. «Похожие» решения считаются плагиатом и все задействованные студенты (в том числе те, у кого списали) не могут получить за него больше 0 баллов и понижают карму (подробнее о плагиате см. на странице курса). Если вы нашли решение какого-то из заданий в открытом источнике, необходимо прислать ссылку на этот источник (скорее всего вы будете не единственным, кто это нашел, поэтому чтобы исключить подозрение в плагиате, нам необходима ссылка на источник).\n",
    "\n"
   ]
  },
  {
   "cell_type": "code",
   "execution_count": 8,
   "metadata": {},
   "outputs": [],
   "source": [
    "import os\n",
    "import numpy as np\n",
    "import pandas as pd\n",
    "from zipfile import ZipFile\n",
    "\n",
    "import matplotlib.pyplot as plt\n",
    "import seaborn as sns\n",
    "sns.set(palette='Set2')\n",
    "\n",
    "from pandas.plotting import register_matplotlib_converters\n",
    "register_matplotlib_converters()\n",
    "\n",
    "import statsmodels.api as sm\n",
    "import pmdarima as pm\n",
    "from tbats import TBATS"
   ]
  },
  {
   "cell_type": "code",
   "execution_count": 9,
   "metadata": {},
   "outputs": [],
   "source": [
    "# !pip install statsmodels\n",
    "\n",
    "# !pip install tbats"
   ]
  },
  {
   "cell_type": "markdown",
   "metadata": {},
   "source": [
    "## 1. Данные"
   ]
  },
  {
   "cell_type": "markdown",
   "metadata": {},
   "source": [
    "В качестве данных рассмотрим известный набор данных с параметрами погоды в одной точке земной поверхности, доступный нам с частотой дискретизации в 10 минут. Описание данных доступно по <a href=\"https://keras.io/examples/timeseries/timeseries_weather_forecasting/\">ссылке</a>.\n",
    "\n",
    "Скачаем данные"
   ]
  },
  {
   "cell_type": "code",
   "execution_count": 10,
   "metadata": {},
   "outputs": [
    {
     "name": "stdout",
     "output_type": "stream",
     "text": [
      "--2025-05-11 23:39:42--  https://storage.googleapis.com/tensorflow/tf-keras-datasets/jena_climate_2009_2016.csv.zip\n",
      "Распознаётся storage.googleapis.com (storage.googleapis.com)… 173.194.221.207, 64.233.162.207, 64.233.161.207, ...\n",
      "Подключение к storage.googleapis.com (storage.googleapis.com)|173.194.221.207|:443... соединение установлено.\n",
      "HTTP-запрос отправлен. Ожидание ответа… 200 OK\n",
      "Длина: 13568290 (13M) [application/zip]\n",
      "Сохранение в: «jena_climate_2009_2016.csv.zip»\n",
      "\n",
      "jena_climate_2009_2 100%[===================>]  12,94M  9,02MB/s    за 1,4s    \n",
      "\n",
      "2025-05-11 23:39:44 (9,02 MB/s) - «jena_climate_2009_2016.csv.zip» сохранён [13568290/13568290]\n",
      "\n"
     ]
    }
   ],
   "source": [
    "uri = \"https://storage.googleapis.com/tensorflow/tf-keras-datasets/jena_climate_2009_2016.csv.zip\"\n",
    "!wget {uri}"
   ]
  },
  {
   "cell_type": "code",
   "execution_count": 11,
   "metadata": {},
   "outputs": [],
   "source": [
    "zip_path = \"jena_climate_2009_2016.csv.zip\"\n",
    "assert os.path.exists(zip_path), f\"Download {uri}\"\n",
    "\n",
    "zip_file = ZipFile(zip_path)\n",
    "zip_file.extractall()\n",
    "csv_path = \"jena_climate_2009_2016.csv\""
   ]
  },
  {
   "cell_type": "markdown",
   "metadata": {},
   "source": [
    "Немного преобразуем данные, рассмотрев максимальное значение каждой величины за сутки."
   ]
  },
  {
   "cell_type": "code",
   "execution_count": 12,
   "metadata": {},
   "outputs": [
    {
     "data": {
      "text/html": [
       "<div>\n",
       "<style scoped>\n",
       "    .dataframe tbody tr th:only-of-type {\n",
       "        vertical-align: middle;\n",
       "    }\n",
       "\n",
       "    .dataframe tbody tr th {\n",
       "        vertical-align: top;\n",
       "    }\n",
       "\n",
       "    .dataframe thead th {\n",
       "        text-align: right;\n",
       "    }\n",
       "</style>\n",
       "<table border=\"1\" class=\"dataframe\">\n",
       "  <thead>\n",
       "    <tr style=\"text-align: right;\">\n",
       "      <th></th>\n",
       "      <th>p (mbar)</th>\n",
       "      <th>T (degC)</th>\n",
       "      <th>Tpot (K)</th>\n",
       "      <th>Tdew (degC)</th>\n",
       "      <th>rh (%)</th>\n",
       "      <th>VPmax (mbar)</th>\n",
       "      <th>VPact (mbar)</th>\n",
       "      <th>VPdef (mbar)</th>\n",
       "      <th>sh (g/kg)</th>\n",
       "      <th>H2OC (mmol/mol)</th>\n",
       "      <th>rho (g/m**3)</th>\n",
       "      <th>wv (m/s)</th>\n",
       "      <th>max. wv (m/s)</th>\n",
       "      <th>wd (deg)</th>\n",
       "    </tr>\n",
       "    <tr>\n",
       "      <th>Date</th>\n",
       "      <th></th>\n",
       "      <th></th>\n",
       "      <th></th>\n",
       "      <th></th>\n",
       "      <th></th>\n",
       "      <th></th>\n",
       "      <th></th>\n",
       "      <th></th>\n",
       "      <th></th>\n",
       "      <th></th>\n",
       "      <th></th>\n",
       "      <th></th>\n",
       "      <th></th>\n",
       "      <th></th>\n",
       "    </tr>\n",
       "  </thead>\n",
       "  <tbody>\n",
       "    <tr>\n",
       "      <th>2009-01-01</th>\n",
       "      <td>1000.87</td>\n",
       "      <td>-4.17</td>\n",
       "      <td>269.00</td>\n",
       "      <td>-5.36</td>\n",
       "      <td>94.8</td>\n",
       "      <td>4.48</td>\n",
       "      <td>4.09</td>\n",
       "      <td>0.49</td>\n",
       "      <td>2.55</td>\n",
       "      <td>4.09</td>\n",
       "      <td>1318.81</td>\n",
       "      <td>2.51</td>\n",
       "      <td>3.63</td>\n",
       "      <td>357.9</td>\n",
       "    </tr>\n",
       "    <tr>\n",
       "      <th>2009-01-02</th>\n",
       "      <td>1002.65</td>\n",
       "      <td>-2.12</td>\n",
       "      <td>271.12</td>\n",
       "      <td>-3.88</td>\n",
       "      <td>96.3</td>\n",
       "      <td>5.22</td>\n",
       "      <td>4.58</td>\n",
       "      <td>0.70</td>\n",
       "      <td>2.86</td>\n",
       "      <td>4.59</td>\n",
       "      <td>1298.51</td>\n",
       "      <td>3.87</td>\n",
       "      <td>6.13</td>\n",
       "      <td>358.8</td>\n",
       "    </tr>\n",
       "    <tr>\n",
       "      <th>2009-01-03</th>\n",
       "      <td>1002.49</td>\n",
       "      <td>-0.82</td>\n",
       "      <td>272.59</td>\n",
       "      <td>-6.09</td>\n",
       "      <td>93.9</td>\n",
       "      <td>5.75</td>\n",
       "      <td>3.87</td>\n",
       "      <td>2.86</td>\n",
       "      <td>2.41</td>\n",
       "      <td>3.86</td>\n",
       "      <td>1323.70</td>\n",
       "      <td>3.64</td>\n",
       "      <td>4.88</td>\n",
       "      <td>357.2</td>\n",
       "    </tr>\n",
       "    <tr>\n",
       "      <th>2009-01-04</th>\n",
       "      <td>992.93</td>\n",
       "      <td>-0.63</td>\n",
       "      <td>273.55</td>\n",
       "      <td>-2.26</td>\n",
       "      <td>93.9</td>\n",
       "      <td>5.83</td>\n",
       "      <td>5.17</td>\n",
       "      <td>1.53</td>\n",
       "      <td>3.27</td>\n",
       "      <td>5.25</td>\n",
       "      <td>1274.06</td>\n",
       "      <td>3.95</td>\n",
       "      <td>7.13</td>\n",
       "      <td>257.0</td>\n",
       "    </tr>\n",
       "    <tr>\n",
       "      <th>2009-01-05</th>\n",
       "      <td>997.54</td>\n",
       "      <td>-1.44</td>\n",
       "      <td>272.89</td>\n",
       "      <td>-2.45</td>\n",
       "      <td>93.2</td>\n",
       "      <td>5.49</td>\n",
       "      <td>5.10</td>\n",
       "      <td>0.83</td>\n",
       "      <td>3.23</td>\n",
       "      <td>5.18</td>\n",
       "      <td>1332.38</td>\n",
       "      <td>7.81</td>\n",
       "      <td>10.88</td>\n",
       "      <td>358.9</td>\n",
       "    </tr>\n",
       "  </tbody>\n",
       "</table>\n",
       "</div>"
      ],
      "text/plain": [
       "            p (mbar)  T (degC)  Tpot (K)  Tdew (degC)  rh (%)  VPmax (mbar)  \\\n",
       "Date                                                                          \n",
       "2009-01-01   1000.87     -4.17    269.00        -5.36    94.8          4.48   \n",
       "2009-01-02   1002.65     -2.12    271.12        -3.88    96.3          5.22   \n",
       "2009-01-03   1002.49     -0.82    272.59        -6.09    93.9          5.75   \n",
       "2009-01-04    992.93     -0.63    273.55        -2.26    93.9          5.83   \n",
       "2009-01-05    997.54     -1.44    272.89        -2.45    93.2          5.49   \n",
       "\n",
       "            VPact (mbar)  VPdef (mbar)  sh (g/kg)  H2OC (mmol/mol)  \\\n",
       "Date                                                                 \n",
       "2009-01-01          4.09          0.49       2.55             4.09   \n",
       "2009-01-02          4.58          0.70       2.86             4.59   \n",
       "2009-01-03          3.87          2.86       2.41             3.86   \n",
       "2009-01-04          5.17          1.53       3.27             5.25   \n",
       "2009-01-05          5.10          0.83       3.23             5.18   \n",
       "\n",
       "            rho (g/m**3)  wv (m/s)  max. wv (m/s)  wd (deg)  \n",
       "Date                                                         \n",
       "2009-01-01       1318.81      2.51           3.63     357.9  \n",
       "2009-01-02       1298.51      3.87           6.13     358.8  \n",
       "2009-01-03       1323.70      3.64           4.88     357.2  \n",
       "2009-01-04       1274.06      3.95           7.13     257.0  \n",
       "2009-01-05       1332.38      7.81          10.88     358.9  "
      ]
     },
     "execution_count": 12,
     "metadata": {},
     "output_type": "execute_result"
    }
   ],
   "source": [
    "weather_df = pd.read_csv(csv_path)\n",
    "weather_df[\"Date\"] = pd.to_datetime(weather_df[\"Date Time\"], format=\"%d.%m.%Y %H:%M:%S\")\n",
    "\n",
    "weather_df_daily = weather_df.set_index(\"Date\").resample('D').max().reset_index()\n",
    "del weather_df_daily[\"Date Time\"]\n",
    "weather_df_daily = weather_df_daily.set_index('Date')\n",
    "weather_df_daily.head()"
   ]
  },
  {
   "cell_type": "markdown",
   "metadata": {},
   "source": [
    "Теперь в каждой строчке датасета мы имеем максимальные значения за сутки. Например, в строчке `2012-12-22` в колонке `T (degC)` записана максимальная температура по Цельсию за данные сутки.\n",
    "\n",
    "**Глобальная цель** в данном домашнем задании &mdash; прогнозирование максимальной температуры на день вперед. Например, 22 декабря нужно построить прогноз значения `T (degC)` за 23 декабря, используя при этом любые данные до 22 декабря включительно, но не используя никакие данные начиная с 23 декабря.\n",
    "\n",
    "*Замечание*. Обратите внимание, что значения от 22 декабря доступны только по окончанию этого дня, плюс накладные расходы на поставку данных. Но для упрощения ситуации, допустим, что данные приходят мгновенно, а прогноз от нас ждут в начале суток 23 декабря, так что мы успеем подучить данные от 22 декабря, преобразовать их в признаки и применить нашу модель."
   ]
  },
  {
   "cell_type": "markdown",
   "metadata": {},
   "source": [
    "#### Задача 1. [0.25 балла]\n",
    "\n",
    "Выделите таргет в отдельную переменную `pd.Series`. Значением таргета от 22 декабря должна быть максимальная температура за сутки 23 декабря, то есть то, что мы хотим прогнозировать."
   ]
  },
  {
   "cell_type": "code",
   "execution_count": null,
   "metadata": {},
   "outputs": [],
   "source": []
  },
  {
   "cell_type": "markdown",
   "metadata": {},
   "source": [
    "Разделите данные на обучающие и тестовые. В качестве тестового отрезка времени возьмите данные за последний год. Обратите внимание, что за 2016-10-26 и 2016-10-27 данных нет."
   ]
  },
  {
   "cell_type": "code",
   "execution_count": null,
   "metadata": {},
   "outputs": [],
   "source": []
  },
  {
   "cell_type": "markdown",
   "metadata": {},
   "source": [
    "## 2. Простая аналитика"
   ]
  },
  {
   "cell_type": "markdown",
   "metadata": {},
   "source": [
    "#### Задача 2. [0.5 балла]\n",
    "\n",
    "Произведите визуализацию всех временных рядов."
   ]
  },
  {
   "cell_type": "code",
   "execution_count": null,
   "metadata": {},
   "outputs": [],
   "source": []
  },
  {
   "cell_type": "markdown",
   "metadata": {},
   "source": [
    "Имеются ли в данных выбросы? Если да, отфильтруйте данные. Не перестарайтесь, фильтруйте только более менее очевидные выбросы.\n",
    "\n",
    "Подумайте над тем, какие значения ставить вместо выбросов. Учтите, что не все модели могут обрабатывать пропуски."
   ]
  },
  {
   "cell_type": "code",
   "execution_count": null,
   "metadata": {},
   "outputs": [],
   "source": []
  },
  {
   "cell_type": "markdown",
   "metadata": {},
   "source": [
    "#### Задача 3. [0.5 балла]\n",
    "\n",
    "Посчитайте матрицу корреляций по всем временным рядам без сдвигов (т.е. $corr(x_t, y_t)$) и визуализируйте ее"
   ]
  },
  {
   "cell_type": "code",
   "execution_count": null,
   "metadata": {},
   "outputs": [],
   "source": []
  },
  {
   "cell_type": "markdown",
   "metadata": {},
   "source": [
    "По временному ряду температуры выполните STL-разложение и визуализируйте полученные компоненты"
   ]
  },
  {
   "cell_type": "code",
   "execution_count": null,
   "metadata": {},
   "outputs": [],
   "source": []
  },
  {
   "cell_type": "markdown",
   "metadata": {},
   "source": [
    "**Выводы:**"
   ]
  },
  {
   "cell_type": "markdown",
   "metadata": {},
   "source": [
    "## 3. Качество"
   ]
  },
  {
   "cell_type": "markdown",
   "metadata": {},
   "source": [
    "#### Задача 4. [1 балл]\n",
    "\n",
    "Напишите функции вычисления качества решения в задачи прогнозирования.\n",
    "Качество решения будем описывать при помощи нескольких метрик качества:\n",
    "  * mean_squared_error\n",
    "  * mean_absolute_error\n",
    "  * median_absolute_error"
   ]
  },
  {
   "cell_type": "code",
   "execution_count": null,
   "metadata": {},
   "outputs": [],
   "source": []
  },
  {
   "cell_type": "markdown",
   "metadata": {},
   "source": [
    "По всем тестовым данным посчитайте метрики качества baseline-решения &mdash; наивной модели. Попробуйте варианты:\n",
    "- Naive(1): прогноз лагом порядка 1, т.е. последним доступным значением;\n",
    "- Naive(2): прогноз лагом порядка 2;\n",
    "- Naive(3): прогноз лагом порядка 3.\n",
    "\n",
    "Обратите внимание на наличие пропусков в целевой переменной, как лучше поступить с ними при оценке качества и при построении прогноза?"
   ]
  },
  {
   "cell_type": "code",
   "execution_count": null,
   "metadata": {},
   "outputs": [],
   "source": []
  },
  {
   "cell_type": "markdown",
   "metadata": {},
   "source": [
    "Посчитайте по всем моделям эти же метрики по скользящим окнам из 4 и 8 недель:\n",
    "- Берем тестовый промежуток и разбиваем его на окна, состоящие из 4 недель. Следующее окно сдвинуто относительно предыдущего на 1 день.\n",
    "- По каждой модели считаем метрики одношагового прогноза на выбранном окне.\n",
    "- Аналогично повторяем для окон из 8 недель.\n",
    "\n",
    "Таким образом, для каждой модели получатся последовательности метрик по окнам. Постройте графики изменения качества прогноза."
   ]
  },
  {
   "cell_type": "code",
   "execution_count": null,
   "metadata": {},
   "outputs": [],
   "source": []
  },
  {
   "cell_type": "markdown",
   "metadata": {},
   "source": [
    "**Выводы:**"
   ]
  },
  {
   "cell_type": "markdown",
   "metadata": {},
   "source": [
    "#### Задача 5. [0.5 балла]"
   ]
  },
  {
   "cell_type": "markdown",
   "metadata": {},
   "source": [
    "Скользящая валидация с фиксированным началом обучающего периода (*см. в лекциях вариант 1*) реализована в <a href=\"https://scikit-learn.org/stable/modules/generated/sklearn.model_selection.TimeSeriesSplit.html\">sklearn.model_selection.TimeSeriesSplit</a>:"
   ]
  },
  {
   "cell_type": "code",
   "execution_count": null,
   "metadata": {},
   "outputs": [],
   "source": [
    "from sklearn.model_selection import TimeSeriesSplit\n",
    "\n",
    "\n",
    "ts_cv_1 = TimeSeriesSplit(n_splits=5, test_size=8*7)"
   ]
  },
  {
   "cell_type": "markdown",
   "metadata": {},
   "source": [
    "Варианта с фиксированным размером обучающего датасета (*см. в лекциях вариант 2*) тоже можно добиться при помощи <a href=\"https://scikit-learn.org/stable/modules/generated/sklearn.model_selection.TimeSeriesSplit.html\">sklearn.model_selection.TimeSeriesSplit</a>:"
   ]
  },
  {
   "cell_type": "code",
   "execution_count": null,
   "metadata": {},
   "outputs": [],
   "source": [
    "ts_cv_2 = TimeSeriesSplit(n_splits=5, max_train_size=1000, test_size=8*7)"
   ]
  },
  {
   "cell_type": "markdown",
   "metadata": {},
   "source": [
    "Пусть вы хотите добиться двух целей:\n",
    "- Подобрать лучшую модель при помощи поиска оптимальных гиперпараметров.\n",
    "- Получить несмещенную оценку качества полученной лучшей модели.\n",
    "\n",
    "Для этих целей лучше не использовать одну и ту же кросс-валидацию, т.к. при подборе гиперепараметров происходит некоторая форма переоптимизации и качество может оказаться несколько завышенным.\n",
    "\n",
    "С этой целью может подойти вложенная (nested) кросс-валидация, реализацию которого можно найти по <a href=\"https://github.com/roelbertens/time-series-nested-cv\">ссылке</a>, а про читать про нее можно в [посте](https://xebia.com/blog/its-time-to-trust-your-predictions/)."
   ]
  },
  {
   "cell_type": "code",
   "execution_count": null,
   "metadata": {},
   "outputs": [],
   "source": []
  },
  {
   "cell_type": "markdown",
   "metadata": {},
   "source": [
    "Реализуйте вложенную кросс-валидацию. Продемонстрируйте ее работу, распечатав индексы обучающих и тестовых частей во внешнем и внутренних циклах.\n",
    "\n",
    "*Замечание.* Демонстрацию можете сделать в виде вложенного цикла"
   ]
  },
  {
   "cell_type": "code",
   "execution_count": null,
   "metadata": {},
   "outputs": [],
   "source": []
  },
  {
   "cell_type": "markdown",
   "metadata": {},
   "source": [
    "## 4. Сведение к задаче регрессии"
   ]
  },
  {
   "cell_type": "markdown",
   "metadata": {},
   "source": [
    "Для получения признакового описания для конкретного момента времени обычно применяют различные оконные функции к таблице данных, что позволяет сэкономить память и вычисления.\n",
    "Но нужно помнить, что нельзя допустить просачивание информации из будущего, т.к. такие признаки вы не сможете вычислить в продакшне.\n",
    "\n",
    "\n"
   ]
  },
  {
   "cell_type": "markdown",
   "metadata": {},
   "source": [
    "#### Задача 6. [0.5 балла]\n",
    "\n",
    "Вычислите простые признаки вида описательных статистик (сумма, максимум, минимум, стандартное отклонение) по нескольким размерам окон. Признаки можно вычислять не только по температуре, но и по сопутствующим временным рядам."
   ]
  },
  {
   "cell_type": "code",
   "execution_count": null,
   "metadata": {},
   "outputs": [],
   "source": []
  },
  {
   "cell_type": "markdown",
   "metadata": {},
   "source": [
    "#### Задача 7. [2 балла]\n",
    "\n",
    "Обучите градиентый бустинг и обычный многослойный перцептрон с использованием написанного скользящего контроля. \n",
    "- Используйте внутренний цикл кросс-валидации для подбора гиперпараметров, а внешний цикл для итоговой оценки качества.\n",
    "- В качестве размера тестовой части во внешнем цикле возьмите 13 недель. Используйте 4 фолда, чтобы итоговой промежуток оценки качества составил примерно год.\n",
    "- Не используете тестовую часть данных, отделенную в Задаче 1.\n",
    "- Посчитайте качество на внешнем цикле кросс-валидации."
   ]
  },
  {
   "cell_type": "code",
   "execution_count": null,
   "metadata": {},
   "outputs": [],
   "source": []
  },
  {
   "cell_type": "markdown",
   "metadata": {},
   "source": [
    "Визуализируйте прогнозы, полученные во внешнем цикле, сравнив их с истинными значениями ряда."
   ]
  },
  {
   "cell_type": "code",
   "execution_count": null,
   "metadata": {},
   "outputs": [],
   "source": []
  },
  {
   "cell_type": "markdown",
   "metadata": {},
   "source": [
    "Переобучите лучшие модели на полном наборе обучающих данных и сделайте ими предсказания на тестовом промежутке. Посчитайте метрики."
   ]
  },
  {
   "cell_type": "code",
   "execution_count": null,
   "metadata": {},
   "outputs": [],
   "source": []
  },
  {
   "cell_type": "markdown",
   "metadata": {},
   "source": [
    "Визуализируйте прогнозы, сравнив их с истинными значениями ряда."
   ]
  },
  {
   "cell_type": "code",
   "execution_count": null,
   "metadata": {},
   "outputs": [],
   "source": []
  },
  {
   "cell_type": "markdown",
   "metadata": {},
   "source": [
    "#### Задача 8. [1 балл]\n",
    "\n",
    "Генерировать признаки на этапе знакомства с данными &mdash; не очень интересное занятие.\n",
    "В отрасли предпринято несколько попыток автоматизировать этот этап.\n",
    "\n",
    "С помощью библиотеки <a href=\"https://tsfresh.com/\">tsfresh</a> можно довольно быстро сгенерировать большое количество признаков на основе сырых данных временных рядов. Например, по скользящему окну с помощью можно вычислить статистики вида минимум, максимум, среднее, количество пиков и т.д.\n",
    "\n",
    "Ознакомьтесь с данной библиотекой и сгенерируйте признаковое описание. Обратите внимание на функции\n",
    "* `roll_time_series`\n",
    "* `extract_features`"
   ]
  },
  {
   "cell_type": "code",
   "execution_count": null,
   "metadata": {},
   "outputs": [],
   "source": []
  },
  {
   "cell_type": "markdown",
   "metadata": {},
   "source": [
    "Сколько признаков вы получили? Как побороться с большим числом признаков?"
   ]
  },
  {
   "cell_type": "code",
   "execution_count": null,
   "metadata": {},
   "outputs": [],
   "source": []
  },
  {
   "cell_type": "markdown",
   "metadata": {},
   "source": [
    "Обучите модель на полном наборе обучающих данных, посчитайте ее качество на тестовых данных и постройте график прогноза в сравнении с истинными значениями."
   ]
  },
  {
   "cell_type": "code",
   "execution_count": null,
   "metadata": {},
   "outputs": [],
   "source": []
  },
  {
   "cell_type": "markdown",
   "metadata": {},
   "source": [
    "**Выводы:**"
   ]
  },
  {
   "cell_type": "markdown",
   "metadata": {},
   "source": [
    "## 5. Модель PatchTST"
   ]
  },
  {
   "cell_type": "markdown",
   "metadata": {},
   "source": [
    "#### Задача 9. [2.5 балла]\n",
    "\n",
    "Реализуйте модель [PatchTST](https://arxiv.org/abs/2211.14730)."
   ]
  },
  {
   "cell_type": "code",
   "execution_count": null,
   "metadata": {},
   "outputs": [],
   "source": [
    "import torch\n",
    "import torch.nn as nn\n",
    "import math\n",
    "\n",
    "\n",
    "class RevIN(nn.Module):\n",
    "    def __init__(self, num_features, eps=1e-5):\n",
    "        super().__init__()\n",
    "        self.eps = eps\n",
    "        self.mean = None\n",
    "        self.std = None\n",
    "\n",
    "    def forward(self, x, mode=\"norm\"):\n",
    "        if mode == \"norm\":\n",
    "            self._calc_statistics(x)\n",
    "            x = self._normalize(x)\n",
    "        elif mode == \"denorm\":\n",
    "            x = self._denormalize(x)\n",
    "        return x\n",
    "\n",
    "    def _calc_statistics(self, x):\n",
    "        # TODO: реализуйте\n",
    "        self.mean = ...\n",
    "        self.std = ...\n",
    "\n",
    "    def _normalize(self, x):\n",
    "        # TODO: реализуйте\n",
    "        x = ...\n",
    "        return x\n",
    "\n",
    "    def _denormalize(self, x):\n",
    "        # TODO: реализуйте\n",
    "        x = ...\n",
    "        return x\n",
    "\n",
    "\n",
    "class PatchTST(nn.Module):\n",
    "    def __init__(\n",
    "        self,\n",
    "        seq_len=336,\n",
    "        pred_len=96,\n",
    "        patch_len=16,\n",
    "        stride=8,\n",
    "        num_channels=1,\n",
    "        d_model=128,\n",
    "        n_heads=4,\n",
    "        num_layers=3,\n",
    "        dropout=0.2\n",
    "    ):\n",
    "        super().__init__()\n",
    "        self.patch_len = patch_len\n",
    "        self.stride = stride\n",
    "        self.num_channels = num_channels\n",
    "        \n",
    "        # RevIN normalization\n",
    "        self.revin = RevIN(num_channels)\n",
    "        \n",
    "        # Patching and Projection\n",
    "        # TODO: реализуйте\n",
    "        self.patch_num = ...\n",
    "        self.input_proj = ...\n",
    "        \n",
    "        # Positional Encoding\n",
    "        # TODO: реализуйте\n",
    "        self.position_enc = ...\n",
    "        \n",
    "        # Transformer Encoder\n",
    "        # TODO: реализуйте\n",
    "        encoder_layer = ...\n",
    "        self.encoder = ...\n",
    "        \n",
    "        # Output Layer\n",
    "        # TODO: реализуйте\n",
    "        self.output_layer = ...\n",
    "\n",
    "    def create_patches(self, x):\n",
    "        # Input: [batch, channels, seq_len]\n",
    "        # TODO: реализуйте логику\n",
    "        patches = ...\n",
    "        return patches\n",
    "\n",
    "    def forward(self, x):\n",
    "        # x: [batch, channels, seq_len]\n",
    "        # Apply RevIN normalization\n",
    "        x = self.revin(x, \"norm\")\n",
    "        \n",
    "        # Create patches and reshape for channel independence\n",
    "        # TODO: реализуйте\n",
    "        patches = ...\n",
    "        \n",
    "        # Project patches\n",
    "        # TODO: реализуйте\n",
    "        projections = ...\n",
    "        \n",
    "        # Add positional encoding\n",
    "        # TODO: реализуйте\n",
    "        projections = ...\n",
    "        \n",
    "        # Transformer encoding\n",
    "        # TODO: реализуйте\n",
    "        encoded = ...\n",
    "        \n",
    "        # Flatten and predict\n",
    "        # TODO: реализуйте\n",
    "        output = ...\n",
    "        \n",
    "        # Denormalize output using RevIN\n",
    "        output = self.revin(output, \"denorm\")\n",
    "        \n",
    "        return output"
   ]
  },
  {
   "cell_type": "markdown",
   "metadata": {},
   "source": [
    "Проверим, что модель работает."
   ]
  },
  {
   "cell_type": "code",
   "execution_count": null,
   "metadata": {},
   "outputs": [],
   "source": [
    "model = PatchTST(\n",
    "    seq_len=384,\n",
    "    pred_len=1,\n",
    "    patch_len=16,\n",
    "    stride=8,\n",
    "    num_channels=3,\n",
    "    d_model=64,\n",
    "    n_heads=4,\n",
    "    num_layers=3\n",
    ")\n",
    "\n",
    "input_tensor = torch.randn(32, 3, 384)  # [batch, channels, seq_len]\n",
    "output = model(input_tensor)  # [32, 3, 1]"
   ]
  },
  {
   "cell_type": "code",
   "execution_count": null,
   "metadata": {},
   "outputs": [],
   "source": []
  },
  {
   "cell_type": "markdown",
   "metadata": {},
   "source": [
    "#### Задача 10. [1 балл]\n",
    "\n",
    "Обучите реализованную модель на полном наборе обучающих данных."
   ]
  },
  {
   "cell_type": "code",
   "execution_count": null,
   "metadata": {},
   "outputs": [],
   "source": []
  },
  {
   "cell_type": "markdown",
   "metadata": {},
   "source": [
    "Посчитайте качество на тестовых данных и постройте график прогноза в сравнении с истинными значениями."
   ]
  },
  {
   "cell_type": "code",
   "execution_count": null,
   "metadata": {},
   "outputs": [],
   "source": []
  },
  {
   "cell_type": "markdown",
   "metadata": {},
   "source": [
    "**Выводы:**"
   ]
  },
  {
   "cell_type": "markdown",
   "metadata": {},
   "source": [
    "## 6. Итоговое сравнение"
   ]
  },
  {
   "cell_type": "markdown",
   "metadata": {},
   "source": [
    "#### Задача 11. [0.25 балла]\n",
    "\n",
    "Составьте итоговую таблицу сравнения качества прогнозов всех рассмотренных моделей по всем метрикам. Постройте график прогнозов для лучших моделей."
   ]
  },
  {
   "cell_type": "code",
   "execution_count": null,
   "metadata": {},
   "outputs": [],
   "source": []
  },
  {
   "cell_type": "markdown",
   "metadata": {},
   "source": [
    "**Выводы:**"
   ]
  }
 ],
 "metadata": {
  "kernelspec": {
   "display_name": "Python 3 (ipykernel)",
   "language": "python",
   "name": "python3"
  },
  "language_info": {
   "codemirror_mode": {
    "name": "ipython",
    "version": 3
   },
   "file_extension": ".py",
   "mimetype": "text/x-python",
   "name": "python",
   "nbconvert_exporter": "python",
   "pygments_lexer": "ipython3",
   "version": "3.11.5"
  },
  "toc": {
   "base_numbering": 1,
   "nav_menu": {},
   "number_sections": true,
   "sideBar": true,
   "skip_h1_title": false,
   "title_cell": "Table of Contents",
   "title_sidebar": "Contents",
   "toc_cell": false,
   "toc_position": {
    "height": "calc(100% - 180px)",
    "left": "10px",
    "top": "150px",
    "width": "369.6px"
   },
   "toc_section_display": true,
   "toc_window_display": true
  }
 },
 "nbformat": 4,
 "nbformat_minor": 4
}
